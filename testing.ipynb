{
 "cells": [
  {
   "cell_type": "code",
   "execution_count": 1,
   "metadata": {},
   "outputs": [],
   "source": [
    "import small_world_propensity as swp"
   ]
  },
  {
   "cell_type": "code",
   "execution_count": 2,
   "metadata": {},
   "outputs": [
    {
     "name": "stderr",
     "output_type": "stream",
     "text": [
      "100%|██████████| 2/2 [00:01<00:00,  1.21it/s]\n"
     ]
    }
   ],
   "source": [
    "import networkx as nx\n",
    "\n",
    "WS_high = nx.watts_strogatz_graph(1000, 10, 0.05)\n",
    "WS_low = nx.watts_strogatz_graph(1000, 10, 0.95)\n",
    "\n",
    "As = [nx.to_numpy_array(WS_high), nx.to_numpy_array(WS_low)]\n",
    "bins = [True, True]\n",
    "\n",
    "df = swp.small_world_propensity(As, bins)"
   ]
  },
  {
   "cell_type": "code",
   "execution_count": 3,
   "metadata": {},
   "outputs": [
    {
     "data": {
      "text/html": [
       "<div>\n",
       "<style scoped>\n",
       "    .dataframe tbody tr th:only-of-type {\n",
       "        vertical-align: middle;\n",
       "    }\n",
       "\n",
       "    .dataframe tbody tr th {\n",
       "        vertical-align: top;\n",
       "    }\n",
       "\n",
       "    .dataframe thead th {\n",
       "        text-align: right;\n",
       "    }\n",
       "</style>\n",
       "<table border=\"1\" class=\"dataframe\">\n",
       "  <thead>\n",
       "    <tr style=\"text-align: right;\">\n",
       "      <th></th>\n",
       "      <th>Network C</th>\n",
       "      <th>Network L</th>\n",
       "      <th>ΔC</th>\n",
       "      <th>ΔL</th>\n",
       "      <th>SWP</th>\n",
       "      <th>α</th>\n",
       "      <th>δ</th>\n",
       "      <th>Regular C</th>\n",
       "      <th>Random C</th>\n",
       "      <th>Regular L</th>\n",
       "      <th>Random L</th>\n",
       "    </tr>\n",
       "  </thead>\n",
       "  <tbody>\n",
       "    <tr>\n",
       "      <th>0</th>\n",
       "      <td>0.572946</td>\n",
       "      <td>5.212288</td>\n",
       "      <td>0.142647</td>\n",
       "      <td>0.041525</td>\n",
       "      <td>0.894946</td>\n",
       "      <td>0.283273</td>\n",
       "      <td>-0.639325</td>\n",
       "      <td>0.666667</td>\n",
       "      <td>0.009658</td>\n",
       "      <td>50.45045</td>\n",
       "      <td>3.252393</td>\n",
       "    </tr>\n",
       "    <tr>\n",
       "      <th>1</th>\n",
       "      <td>0.008295</td>\n",
       "      <td>3.266543</td>\n",
       "      <td>1.000000</td>\n",
       "      <td>0.000180</td>\n",
       "      <td>0.292893</td>\n",
       "      <td>0.000180</td>\n",
       "      <td>-0.999771</td>\n",
       "      <td>0.666667</td>\n",
       "      <td>0.010438</td>\n",
       "      <td>50.45045</td>\n",
       "      <td>3.258046</td>\n",
       "    </tr>\n",
       "  </tbody>\n",
       "</table>\n",
       "</div>"
      ],
      "text/plain": [
       "   Network C  Network L        ΔC        ΔL       SWP         α         δ  \\\n",
       "0   0.572946   5.212288  0.142647  0.041525  0.894946  0.283273 -0.639325   \n",
       "1   0.008295   3.266543  1.000000  0.000180  0.292893  0.000180 -0.999771   \n",
       "\n",
       "   Regular C  Random C  Regular L  Random L  \n",
       "0   0.666667  0.009658   50.45045  3.252393  \n",
       "1   0.666667  0.010438   50.45045  3.258046  "
      ]
     },
     "execution_count": 3,
     "metadata": {},
     "output_type": "execute_result"
    }
   ],
   "source": [
    "df.head()"
   ]
  }
 ],
 "metadata": {
  "kernelspec": {
   "display_name": ".env",
   "language": "python",
   "name": "python3"
  },
  "language_info": {
   "codemirror_mode": {
    "name": "ipython",
    "version": 3
   },
   "file_extension": ".py",
   "mimetype": "text/x-python",
   "name": "python",
   "nbconvert_exporter": "python",
   "pygments_lexer": "ipython3",
   "version": "3.10.9"
  },
  "orig_nbformat": 4
 },
 "nbformat": 4,
 "nbformat_minor": 2
}
